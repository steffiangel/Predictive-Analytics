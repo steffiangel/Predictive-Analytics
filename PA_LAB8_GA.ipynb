{
  "nbformat": 4,
  "nbformat_minor": 0,
  "metadata": {
    "colab": {
      "provenance": [],
      "include_colab_link": true
    },
    "kernelspec": {
      "name": "python3",
      "display_name": "Python 3"
    },
    "language_info": {
      "name": "python"
    }
  },
  "cells": [
    {
      "cell_type": "markdown",
      "metadata": {
        "id": "view-in-github",
        "colab_type": "text"
      },
      "source": [
        "<a href=\"https://colab.research.google.com/github/steffiangel/Predictive-Analytics/blob/main/PA_LAB8_GA.ipynb\" target=\"_parent\"><img src=\"https://colab.research.google.com/assets/colab-badge.svg\" alt=\"Open In Colab\"/></a>"
      ]
    },
    {
      "cell_type": "markdown",
      "source": [
        "The task is to find the shortest overall route between many destinations: Kid visits several Games in succession and returns to the starting point in the overall shortest distance at the end."
      ],
      "metadata": {
        "id": "QDCX3x6qDSPJ"
      }
    },
    {
      "cell_type": "code",
      "execution_count": null,
      "metadata": {
        "id": "ssNef8xECfrk"
      },
      "outputs": [],
      "source": [
        "import pandas as pd\n",
        "from random import randint, shuffle, choices, random\n",
        "from heapq import nlargest\n",
        "from copy import deepcopy"
      ]
    },
    {
      "cell_type": "code",
      "source": [],
      "metadata": {
        "id": "-3TFMQcaHIhT"
      },
      "execution_count": null,
      "outputs": []
    },
    {
      "cell_type": "code",
      "source": [
        "df = pd.read_excel(\"DistanceStores22.xlsx\")\n",
        "df['DistanceKM'] = ((df['Distance(m)']/1000).astype(int)).astype(str)\n",
        "keys = zip(df['StartLocation'],df['Destination'])\n",
        "values = df['DistanceKM'].astype(int)\n",
        "source_distances = dict(zip(keys, values))\n",
        "distances = {}"
      ],
      "metadata": {
        "id": "8aZzHHOYCqg_"
      },
      "execution_count": null,
      "outputs": []
    },
    {
      "cell_type": "markdown",
      "source": [
        "#Background:"
      ],
      "metadata": {
        "id": "7UHnybDkD4MF"
      }
    },
    {
      "cell_type": "markdown",
      "source": [
        "Imagine a kid for a golden fair in Willows has to travel four Games A, B, C, and D. Since time is money and kids are eager to play, it is only natural that you want to find the overall shortest traveling route to play all games.\n",
        "\n",
        "First of all we need the distances between all of the four games:"
      ],
      "metadata": {
        "id": "H-JgJyBvD6Il"
      }
    },
    {
      "cell_type": "code",
      "source": [
        "locations = sorted(list(set(df['StartLocation']).union(set(df['Destination']))))\n",
        "for loc1 in locations:\n",
        "    distances[loc1] = {}\n",
        "    for loc2 in locations:\n",
        "        if loc1 == loc2:\n",
        "            distances[loc1][loc2] = 0\n",
        "        elif (loc1, loc2) in source_distances:\n",
        "            distances[loc1][loc2] = source_distances[(loc1, loc2)]\n",
        "        elif (loc2, loc1) in source_distances:\n",
        "            distances[loc1][loc2] = source_distances[(loc2, loc1)]\n",
        "        else:\n",
        "            distances[loc1][loc2] = float('inf')\n",
        "\n",
        "four_stores = locations[:4]\n",
        "\n",
        "for i in range(len(four_stores)):\n",
        "    for j in range(i + 1, len(four_stores)):\n",
        "        store1 = four_stores[i]\n",
        "        store2 = four_stores[j]\n",
        "        distance = distances[store1][store2]\n",
        "        print(f\"Distance between {store1} and {store2}: {distance} km\")"
      ],
      "metadata": {
        "colab": {
          "base_uri": "https://localhost:8080/"
        },
        "id": "WxLQP1QVDw78",
        "outputId": "d3c41a58-4cd2-47f6-d091-ec0b48c62bea"
      },
      "execution_count": null,
      "outputs": [
        {
          "output_type": "stream",
          "name": "stdout",
          "text": [
            "Distance between StoreA and StoreB: 15 km\n",
            "Distance between StoreA and StoreC: 8 km\n",
            "Distance between StoreA and StoreD: 10 km\n",
            "Distance between StoreB and StoreC: 10 km\n",
            "Distance between StoreB and StoreD: 10 km\n",
            "Distance between StoreC and StoreD: 2 km\n"
          ]
        }
      ]
    },
    {
      "cell_type": "markdown",
      "source": [
        "As we can see the distance of all game stores -in both directions to each other- are known. We are considering both directions, because distance by car can slightly vary."
      ],
      "metadata": {
        "id": "LhDXxulgEAL8"
      }
    },
    {
      "cell_type": "markdown",
      "source": [],
      "metadata": {
        "id": "qGVAWRR-EEKI"
      }
    },
    {
      "cell_type": "markdown",
      "source": [
        "To combine all game stores in one overall shortest route is called a nondeterministic polynomial problem. This means that a found shortest distance can be verified at most in polynomial time. Since we don’t have this time we will approach the best possible solution throughcalled genetic algorithm."
      ],
      "metadata": {
        "id": "7x3cDb2jED2C"
      }
    },
    {
      "cell_type": "code",
      "source": [
        "for places in source_distances:\n",
        "    distances[places] = source_distances[places]\n"
      ],
      "metadata": {
        "id": "ZNvTtdD-CxMk"
      },
      "execution_count": null,
      "outputs": []
    },
    {
      "cell_type": "markdown",
      "source": [
        "#Solution:"
      ],
      "metadata": {
        "id": "VxVO7661DU5N"
      }
    },
    {
      "cell_type": "markdown",
      "source": [
        "The genetic algorithm continuously alters a population of chromosomes, which represent individual solutions. Each chromosome encodes a potential sequence for visiting the stores."
      ],
      "metadata": {
        "id": "bL5KoPZqEJ6z"
      }
    },
    {
      "cell_type": "markdown",
      "source": [
        "The concept of chromosomes in this context is inspired by a natural selection process that reflects biological evolution. However, because it merely imitates nature rather than replicating it accurately, I prefer to refer to the genetic method as an “advanced blind guess” and to call the chromosomes “potential solutions.” A key feature of the genetic approach is that, at each iteration, the algorithm randomly chooses individuals from the existing population to act as parents, generating offspring for the next generation. By employing a genetic algorithm, particularly effective routes (the order in which stores are visited) are chosen from an initial set of randomly created solutions. After several cycles of mutation, the population progressively \"evolves\" towards an optimal solution.\n"
      ],
      "metadata": {
        "id": "IlE4UFZOEUTM"
      }
    },
    {
      "cell_type": "markdown",
      "source": [
        "The genetic algorithm is implemented through the PotentialSolution class, which represents the chromosomes as a single possible route solution."
      ],
      "metadata": {
        "id": "CzSSoAnHEVgj"
      }
    },
    {
      "cell_type": "code",
      "source": [
        "class PotentialSolution:\n",
        "    def randomInstance(cls):\n",
        "        return PotentialSolution()\n",
        "\n",
        "    def fitness(self):\n",
        "        return 1\n",
        "\n",
        "    def mutate(self):\n",
        "        return self\n",
        "\n",
        "    def crossover(self, other):\n",
        "        return [self, other]"
      ],
      "metadata": {
        "id": "7wdMLykwC0vD"
      },
      "execution_count": null,
      "outputs": []
    },
    {
      "cell_type": "markdown",
      "source": [
        "The randomInstance() method generates an instance with randomly assigned locations for the first generation. It also has the ability to mutate by altering a randomly chosen route and to perform crossover with another chromosome, allowing for a random exchange of locations.\n",
        "\n",
        "Given that the goal is to minimize distance, the fitness function computes the reciprocal of the total distance."
      ],
      "metadata": {
        "id": "2ODbHWhwEaTM"
      }
    },
    {
      "cell_type": "markdown",
      "source": [
        "During mutation, the positions of two places are randomly swapped,"
      ],
      "metadata": {
        "id": "w_JKacjfEdYd"
      }
    },
    {
      "cell_type": "markdown",
      "source": [
        "and in a crossover, a store swaps its position with the position of that store in another chromosome."
      ],
      "metadata": {
        "id": "SkxDYGl9EeVL"
      }
    },
    {
      "cell_type": "markdown",
      "source": [
        "The class method randomInstance() first creates a copy of the places list, since otherwise the same list would always be passed around."
      ],
      "metadata": {
        "id": "KhlcdmpSEjys"
      }
    },
    {
      "cell_type": "markdown",
      "source": [
        "The copy is randomized using the random shuffle() function and used to create a new instance, which is then returned.\n"
      ],
      "metadata": {
        "id": "whq4INZXEmSv"
      }
    },
    {
      "cell_type": "code",
      "source": [
        "class AdvancedGuess:\n",
        "\n",
        "    def __init__(self, population, expected, max_generations,\n",
        "            crossover_chance, mutation_chance):\n",
        "        self.population = population\n",
        "        self.expected = expected\n",
        "        self.max_generations = max_generations\n",
        "        self.crossover_chance = crossover_chance\n",
        "        self.mutation_chance = mutation_chance\n",
        "\n",
        "    def chooseParents(self):\n",
        "        pool = choices(self.population, k = len(self.population) // 4)\n",
        "        return nlargest(2, pool, key = lambda potentialSolution: potentialSolution.fitness())\n",
        "\n",
        "    def propagate(self):\n",
        "        newPopulation = []\n",
        "        while len(newPopulation) < len(self.population):\n",
        "            parents = self.chooseParents()\n",
        "            if random() < self.crossover_chance:\n",
        "                [child1, child2] = parents[0].crossover(parents[1])\n",
        "                newPopulation.append(child1)\n",
        "                newPopulation.append(child2)\n",
        "            else:\n",
        "                newPopulation.append(parents[0])\n",
        "                newPopulation.append(parents[1])\n",
        "        if len(newPopulation) > len(self.population):\n",
        "            newPopulation.pop()\n",
        "        for potentialSolution in newPopulation:\n",
        "            if random() < self.mutation_chance:\n",
        "                potentialSolution.mutate()\n",
        "        self.population = newPopulation\n",
        "\n",
        "    def find(self):\n",
        "        optimal = deepcopy(\n",
        "            max(self.population, key = lambda potentialSolution: potentialSolution.fitness())\n",
        "        )\n",
        "        for i in range(0, self.max_generations):\n",
        "            if optimal.fitness() >= self.expected:\n",
        "                return optimal\n",
        "            self.propagate()\n",
        "            current_best = deepcopy(\n",
        "                max(self.population, key = lambda potentialSolution: potentialSolution.fitness())\n",
        "            )\n",
        "            if current_best.fitness() > optimal.fitness():\n",
        "                optimal = current_best\n",
        "            print(i, optimal)\n",
        "        return optimal"
      ],
      "metadata": {
        "id": "rhUOAulmC3Tz"
      },
      "execution_count": null,
      "outputs": []
    },
    {
      "cell_type": "code",
      "source": [
        "class distanceShuffling(PotentialSolution):\n",
        "    locations = df['StartLocation'].unique().tolist() #[\"StoreA\", \"StoreB\", \"StoreC\",\"StoreD\"]\n",
        "    distance =distances # {('StoreA', 'StoreB'): 15, ('StoreB', 'StoreA'): 15, ('StoreC', 'StoreB'): 10,\n",
        "    def __init__(self, places):\n",
        "        self.places = places\n",
        "\n",
        "    def getDistance(self):\n",
        "        sum = 0\n",
        "        for index, store in enumerate(self.places):\n",
        "            if index < len(self.places) - 1:\n",
        "                nextStore = self.places[index + 1]\n",
        "            else:\n",
        "                nextStore = self.places[0]\n",
        "            sum += self.distance[(store, nextStore)] # C zu D 2 km, A zu D 10km\n",
        "        return sum # total sum of distance per first combination:D,B,C,A -->38km; danach nächste Schleife, wieder beginnend Index0\n",
        "\n",
        "    def fitness(self):\n",
        "        return 1 / self.getDistance()\n",
        "\n",
        "    @classmethod\n",
        "    def randomCoordinates(cls):\n",
        "        PlacesCopy = cls.locations[:]\n",
        "        shuffle(PlacesCopy)\n",
        "        return distanceShuffling(PlacesCopy)\n",
        "\n",
        "    def mutate(self):\n",
        "        rand_index_1 = randint(0, len(self.places) - 1)\n",
        "        rand_index_2 = randint(0, len(self.places) - 1)\n",
        "        if rand_index_1 != rand_index_2:\n",
        "            self.places[rand_index_1], self.places[rand_index_2] = (\n",
        "                self.places[rand_index_2], self.places[rand_index_1]\n",
        "            )\n",
        "\n",
        "    def crossover(self, other):\n",
        "        child1 = deepcopy(self)\n",
        "        child2 = deepcopy(other)\n",
        "        rand_index = randint(0, len(child1.places) - 1)\n",
        "        store = child1.places[rand_index]\n",
        "        other_index = child2.places.index(store)\n",
        "        if rand_index != other_index:\n",
        "            child1.places[rand_index], child1.places[other_index] = (\n",
        "                child1.places[other_index], child1.places[rand_index]\n",
        "            )\n",
        "            child2.places[rand_index], child2.places[other_index] = (\n",
        "                child2.places[other_index], child2.places[rand_index]\n",
        "            )\n",
        "        return [child1, child2]\n",
        "\n",
        "    def __str__(self):\n",
        "        result = \" - \".join(self.places)\n",
        "        result += \" - \" + self.places[0]\n",
        "        result += \": \" + str(self.getDistance())\n",
        "        return result"
      ],
      "metadata": {
        "id": "JhgUtPoGC8xp"
      },
      "execution_count": null,
      "outputs": []
    },
    {
      "cell_type": "markdown",
      "source": [
        "The copy is randomized using the random shuffle() function and used to create a new instance, which is then returned.\n",
        "\n"
      ],
      "metadata": {
        "id": "daw8oJAqE3Nj"
      }
    },
    {
      "cell_type": "markdown",
      "source": [
        "In mutate() and crossover(), the randint() function is used to generate a random integer between the two specified numbers. The method crossover() obtains complete copies of the parent chromosomes with copy.deepcopy() before swapping information between the children. This is because the parents could otherwise be reselected in the current reproduction loop.\n",
        "\n",
        "The main program creates an initial first population of 20 random chromosomes. The sum of all distances of each chromosomes are calculated. As soon as its fitness exceeds a specified threshold (a very tiny number), the generation sequence ends prematurely and the optimal solution is returned. Otherwise the best one is found after a predetermined number of generations. The algorithm will stop after the maximum number of 20 generations is reached. Crossover_chance is a probability value between 0 and 1 that indicates how often on average a crossover should occur instead of a direct takeover of the parent generation. Mutation_chance specifies how often chromosomes of a new generation should mutate on average. That value is also between 0 and 1."
      ],
      "metadata": {
        "id": "nTsZ6oHQE6V5"
      }
    },
    {
      "cell_type": "markdown",
      "source": [
        "In the mutate() and crossover() functions, the randint() function is utilized to generate a random integer within a specified range. The crossover() method makes complete copies of the parent chromosomes using copy.deepcopy() before exchanging information between the offspring. This copying is necessary to prevent the parents from being reselected in the current reproduction cycle.\n",
        "\n",
        "The main program initializes a population of 20 random chromosomes. It calculates the total distance for each chromosome. If a reliable optimal solution is found, it is returned. If not, the best solution is determined after a set number of generations. The algorithm terminates once it reaches the maximum limit of 20 generations. The crossover_chance is a probability value between 0 and 1 that indicates the average frequency of crossover occurring instead of a direct replacement of the parent generation. Similarly, mutation_chance indicates the average frequency of mutations occurring in the chromosomes of the new generation, also expressed as a value between 0 and 1."
      ],
      "metadata": {
        "id": "5ZW-sftzFIM2"
      }
    },
    {
      "cell_type": "markdown",
      "source": [
        "A random value compared with the crossover probability next decides whether the original individuals from the previous generation will be carried over or whether a new generation will be created by their parents."
      ],
      "metadata": {
        "id": "wU5HMl9vFK55"
      }
    },
    {
      "cell_type": "code",
      "source": [
        "if __name__ == '__main__':\n",
        "    population = []\n",
        "    for i in range(0, 20):\n",
        "        population.append(distanceShuffling.randomCoordinates())\n",
        "    advancedGuessing = AdvancedGuess(population, 0.0000001, 20, 0.7, 0.5)\n",
        "    optimal = advancedGuessing.find()\n",
        "    print(\"Shortest distance found:\", optimal)"
      ],
      "metadata": {
        "colab": {
          "base_uri": "https://localhost:8080/"
        },
        "id": "gHGvadvlDClQ",
        "outputId": "de92987e-d2e5-4c16-ec6b-c409eaf9ae8d"
      },
      "execution_count": null,
      "outputs": [
        {
          "output_type": "stream",
          "name": "stdout",
          "text": [
            "Shortest distance found: StoreD - StoreC - StoreA - StoreB - StoreD: 35\n"
          ]
        }
      ]
    },
    {
      "cell_type": "markdown",
      "source": [
        "As soon as we run all of the code, we get a solution within just a few seconds"
      ],
      "metadata": {
        "id": "pHb9Y6TxFP84"
      }
    },
    {
      "cell_type": "code",
      "source": [],
      "metadata": {
        "id": "8o6zBX6_FSHF"
      },
      "execution_count": null,
      "outputs": []
    },
    {
      "cell_type": "markdown",
      "source": [
        "#Explanation"
      ],
      "metadata": {
        "id": "mL3LU5zNG-Sv"
      }
    },
    {
      "cell_type": "markdown",
      "source": [
        "The code aims to solve the Traveling Salesperson Problem (TSP), which involves finding the shortest possible route that visits a set of locations and returns to the starting point. In this case, the locations are stores that a salesperson needs to visit.\n",
        "\n",
        "The Approach Since TSP is a computationally complex problem, the code utilizes a genetic algorithm to find a near-optimal solution. Genetic algorithms are inspired by natural selection and evolution. They work by iteratively improving a population of potential solutions (called chromosomes) over multiple generations.\n",
        "\n",
        "Here's a breakdown of how the code works:\n",
        "\n",
        "**Initialization:**\n",
        "\n",
        "A set of potential routes (chromosomes) is randomly generated, representing the initial population.\n",
        "Each route is a permutation of the stores to be visited.\n",
        "\n",
        "**Evaluation:**\n",
        "\n",
        "Each route's \"fitness\" is calculated, which is inversely proportional to the total distance of the route. Shorter routes have higher fitness.\n",
        "\n",
        "**Selection:**\n",
        "\n",
        "Routes with higher fitness (shorter distances) are more likely to be selected as \"parents\" for the next generation. This selection process is based on the principles of natural selection.\n",
        "\n",
        "**Reproduction:**\n",
        "New routes (offspring) are generated by combining parts of the selected parents' routes. This is done using two operations:\n",
        "\n",
        "**Crossover:** Parts of two parent routes are swapped to create two new offspring routes.\n",
        "\n",
        "**Mutation:** A random change is introduced in a route, for example, swapping the order of two stores.\n",
        "\n",
        "**Iteration:**\n",
        "\n",
        "Steps 2-4 are repeated for multiple generations, allowing the population of routes to evolve towards better solutions.\n",
        "\n",
        "##Code Structure\n",
        "\n",
        "PotentialSolution class: Represents a single route (chromosome) and includes methods for creating random routes, calculating fitness, performing mutations, and crossovers.\n",
        "\n",
        "AdvancedGuess class: Implements the genetic algorithm, managing the population of routes, selection, reproduction, and stopping criteria.\n",
        "\n",
        "distanceShuffling class: Inherits from PotentialSolution and is specific to the TSP problem, representing routes between stores, calculating distances, and overriding methods for random route generation, mutation, and crossover.\n",
        "\n",
        "Main execution block: Creates an initial population, sets up the genetic algorithm, and runs the optimization process.\n"
      ],
      "metadata": {
        "id": "6RACVccvF01T"
      }
    },
    {
      "cell_type": "markdown",
      "source": [
        "#Final Interpretatiion"
      ],
      "metadata": {
        "id": "Wln0doF7Fl8I"
      }
    },
    {
      "cell_type": "markdown",
      "source": [
        "The code uses a genetic algorithm to efficiently explore the vast space of possible routes, gradually improving the solution over generations until a near-optimal route for the salesperson is found. This route minimizes the total travel distance and helps the salesperson efficiently visit all the stores."
      ],
      "metadata": {
        "id": "uZIn1oflFowj"
      }
    },
    {
      "cell_type": "markdown",
      "source": [],
      "metadata": {
        "id": "FSPz9or_Fz1D"
      }
    },
    {
      "cell_type": "code",
      "source": [],
      "metadata": {
        "id": "t-GuCSyBFoRL"
      },
      "execution_count": null,
      "outputs": []
    }
  ]
}